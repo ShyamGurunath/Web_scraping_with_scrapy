{
 "metadata": {
  "language_info": {
   "codemirror_mode": {
    "name": "ipython",
    "version": 3
   },
   "file_extension": ".py",
   "mimetype": "text/x-python",
   "name": "python",
   "nbconvert_exporter": "python",
   "pygments_lexer": "ipython3",
   "version": "3.8.5-final"
  },
  "orig_nbformat": 2,
  "kernelspec": {
   "name": "python38564bitpymodulesconda706463b19434409e813a8a8c9e4086a7",
   "display_name": "Python 3.8.5 64-bit ('py_modules': conda)",
   "language": "python"
  }
 },
 "nbformat": 4,
 "nbformat_minor": 2,
 "cells": [
  {
   "cell_type": "code",
   "execution_count": 1,
   "metadata": {},
   "outputs": [],
   "source": [
    "import pandas as pd"
   ]
  },
  {
   "cell_type": "code",
   "execution_count": 2,
   "metadata": {},
   "outputs": [],
   "source": [
    "df = pd.read_csv(\"demo_project/data.csv\")"
   ]
  },
  {
   "cell_type": "code",
   "execution_count": 3,
   "metadata": {},
   "outputs": [
    {
     "output_type": "execute_result",
     "data": {
      "text/plain": [
       "                                                text  \\\n",
       "0  \\n      “I'm selfish, impatient and a little i...   \n",
       "1  \\n      “Be yourself; everyone else is already...   \n",
       "2  \\n      “Two things are infinite: the universe...   \n",
       "3       \\n      “So many books, so little time.”\\n     \n",
       "4  \\n      “A room without books is like a body w...   \n",
       "\n",
       "                            author  \\\n",
       "0         \\n    Marilyn Monroe\\n     \n",
       "1            \\n    Oscar Wilde\\n     \n",
       "2        \\n    Albert Einstein\\n     \n",
       "3            \\n    Frank Zappa\\n     \n",
       "4  \\n    Marcus Tullius Cicero\\n     \n",
       "\n",
       "                                                tags  \n",
       "0  attributed-no-source,best,life,love,mistakes,o...  \n",
       "1  attributed-no-source,be-yourself,honesty,inspi...  \n",
       "2  attributed-no-source,human-nature,humor,infini...  \n",
       "3                                        books,humor  \n",
       "4             attributed-no-source,books,simile,soul  "
      ],
      "text/html": "<div>\n<style scoped>\n    .dataframe tbody tr th:only-of-type {\n        vertical-align: middle;\n    }\n\n    .dataframe tbody tr th {\n        vertical-align: top;\n    }\n\n    .dataframe thead th {\n        text-align: right;\n    }\n</style>\n<table border=\"1\" class=\"dataframe\">\n  <thead>\n    <tr style=\"text-align: right;\">\n      <th></th>\n      <th>text</th>\n      <th>author</th>\n      <th>tags</th>\n    </tr>\n  </thead>\n  <tbody>\n    <tr>\n      <th>0</th>\n      <td>\\n      “I'm selfish, impatient and a little i...</td>\n      <td>\\n    Marilyn Monroe\\n</td>\n      <td>attributed-no-source,best,life,love,mistakes,o...</td>\n    </tr>\n    <tr>\n      <th>1</th>\n      <td>\\n      “Be yourself; everyone else is already...</td>\n      <td>\\n    Oscar Wilde\\n</td>\n      <td>attributed-no-source,be-yourself,honesty,inspi...</td>\n    </tr>\n    <tr>\n      <th>2</th>\n      <td>\\n      “Two things are infinite: the universe...</td>\n      <td>\\n    Albert Einstein\\n</td>\n      <td>attributed-no-source,human-nature,humor,infini...</td>\n    </tr>\n    <tr>\n      <th>3</th>\n      <td>\\n      “So many books, so little time.”\\n</td>\n      <td>\\n    Frank Zappa\\n</td>\n      <td>books,humor</td>\n    </tr>\n    <tr>\n      <th>4</th>\n      <td>\\n      “A room without books is like a body w...</td>\n      <td>\\n    Marcus Tullius Cicero\\n</td>\n      <td>attributed-no-source,books,simile,soul</td>\n    </tr>\n  </tbody>\n</table>\n</div>"
     },
     "metadata": {},
     "execution_count": 3
    }
   ],
   "source": [
    "df.head()"
   ]
  },
  {
   "cell_type": "code",
   "execution_count": 9,
   "metadata": {},
   "outputs": [
    {
     "output_type": "execute_result",
     "data": {
      "text/plain": [
       "0            \\n    Marilyn Monroe\\n  \n",
       "1               \\n    Oscar Wilde\\n  \n",
       "2           \\n    Albert Einstein\\n  \n",
       "3               \\n    Frank Zappa\\n  \n",
       "4     \\n    Marcus Tullius Cicero\\n  \n",
       "                   ...               \n",
       "85                \\n    Anaïs Nin\\n  \n",
       "86                \\n    Dr. Seuss\\n  \n",
       "87               \\n    Bob Marley\\n  \n",
       "88          \\n    Lemony Snicket,\\n  \n",
       "89         \\n    Suzanne Collins,\\n  \n",
       "Name: author, Length: 90, dtype: object"
      ]
     },
     "metadata": {},
     "execution_count": 9
    }
   ],
   "source": [
    "df['author']"
   ]
  },
  {
   "cell_type": "code",
   "execution_count": 27,
   "metadata": {
    "tags": []
   },
   "outputs": [
    {
     "output_type": "execute_result",
     "data": {
      "text/plain": [
       "(90, 3)"
      ]
     },
     "metadata": {},
     "execution_count": 27
    }
   ],
   "source": [
    "df.shape"
   ]
  },
  {
   "cell_type": "code",
   "execution_count": 51,
   "metadata": {},
   "outputs": [],
   "source": [
    "df['author_new'] = df['author_new'].str.join(\" \")"
   ]
  },
  {
   "cell_type": "code",
   "execution_count": 52,
   "metadata": {},
   "outputs": [
    {
     "output_type": "execute_result",
     "data": {
      "text/plain": [
       "                                                 text  \\\n",
       "0   \\n      “I'm selfish, impatient and a little i...   \n",
       "1   \\n      “Be yourself; everyone else is already...   \n",
       "2   \\n      “Two things are infinite: the universe...   \n",
       "3        \\n      “So many books, so little time.”\\n     \n",
       "4   \\n      “A room without books is like a body w...   \n",
       "..                                                ...   \n",
       "85  \\n      “We don't see things as they are, we s...   \n",
       "86  \\n      “Sometimes the questions are complicat...   \n",
       "87  \\n      “You may not be her first, her last, o...   \n",
       "88  \\n      “Never trust anyone who has not brough...   \n",
       "89           \\n      “You love me. Real or not real?\"   \n",
       "\n",
       "                             author  \\\n",
       "0          \\n    Marilyn Monroe\\n     \n",
       "1             \\n    Oscar Wilde\\n     \n",
       "2         \\n    Albert Einstein\\n     \n",
       "3             \\n    Frank Zappa\\n     \n",
       "4   \\n    Marcus Tullius Cicero\\n     \n",
       "..                              ...   \n",
       "85              \\n    Anaïs Nin\\n     \n",
       "86              \\n    Dr. Seuss\\n     \n",
       "87             \\n    Bob Marley\\n     \n",
       "88        \\n    Lemony Snicket,\\n     \n",
       "89       \\n    Suzanne Collins,\\n     \n",
       "\n",
       "                                                 tags             author_new  \n",
       "0   attributed-no-source,best,life,love,mistakes,o...         Marilyn Monroe  \n",
       "1   attributed-no-source,be-yourself,honesty,inspi...            Oscar Wilde  \n",
       "2   attributed-no-source,human-nature,humor,infini...        Albert Einstein  \n",
       "3                                         books,humor            Frank Zappa  \n",
       "4              attributed-no-source,books,simile,soul  Marcus Tullius Cicero  \n",
       "..                                                ...                    ...  \n",
       "85                                                NaN              Anaïs Nin  \n",
       "86                          attributed-no-source,life              Dr. Seuss  \n",
       "87                                               love             Bob Marley  \n",
       "88                                      books,reading        Lemony Snicket,  \n",
       "89  katniss,love,peeta,suzanne-collins,the-hunger-...       Suzanne Collins,  \n",
       "\n",
       "[90 rows x 4 columns]"
      ],
      "text/html": "<div>\n<style scoped>\n    .dataframe tbody tr th:only-of-type {\n        vertical-align: middle;\n    }\n\n    .dataframe tbody tr th {\n        vertical-align: top;\n    }\n\n    .dataframe thead th {\n        text-align: right;\n    }\n</style>\n<table border=\"1\" class=\"dataframe\">\n  <thead>\n    <tr style=\"text-align: right;\">\n      <th></th>\n      <th>text</th>\n      <th>author</th>\n      <th>tags</th>\n      <th>author_new</th>\n    </tr>\n  </thead>\n  <tbody>\n    <tr>\n      <th>0</th>\n      <td>\\n      “I'm selfish, impatient and a little i...</td>\n      <td>\\n    Marilyn Monroe\\n</td>\n      <td>attributed-no-source,best,life,love,mistakes,o...</td>\n      <td>Marilyn Monroe</td>\n    </tr>\n    <tr>\n      <th>1</th>\n      <td>\\n      “Be yourself; everyone else is already...</td>\n      <td>\\n    Oscar Wilde\\n</td>\n      <td>attributed-no-source,be-yourself,honesty,inspi...</td>\n      <td>Oscar Wilde</td>\n    </tr>\n    <tr>\n      <th>2</th>\n      <td>\\n      “Two things are infinite: the universe...</td>\n      <td>\\n    Albert Einstein\\n</td>\n      <td>attributed-no-source,human-nature,humor,infini...</td>\n      <td>Albert Einstein</td>\n    </tr>\n    <tr>\n      <th>3</th>\n      <td>\\n      “So many books, so little time.”\\n</td>\n      <td>\\n    Frank Zappa\\n</td>\n      <td>books,humor</td>\n      <td>Frank Zappa</td>\n    </tr>\n    <tr>\n      <th>4</th>\n      <td>\\n      “A room without books is like a body w...</td>\n      <td>\\n    Marcus Tullius Cicero\\n</td>\n      <td>attributed-no-source,books,simile,soul</td>\n      <td>Marcus Tullius Cicero</td>\n    </tr>\n    <tr>\n      <th>...</th>\n      <td>...</td>\n      <td>...</td>\n      <td>...</td>\n      <td>...</td>\n    </tr>\n    <tr>\n      <th>85</th>\n      <td>\\n      “We don't see things as they are, we s...</td>\n      <td>\\n    Anaïs Nin\\n</td>\n      <td>NaN</td>\n      <td>Anaïs Nin</td>\n    </tr>\n    <tr>\n      <th>86</th>\n      <td>\\n      “Sometimes the questions are complicat...</td>\n      <td>\\n    Dr. Seuss\\n</td>\n      <td>attributed-no-source,life</td>\n      <td>Dr. Seuss</td>\n    </tr>\n    <tr>\n      <th>87</th>\n      <td>\\n      “You may not be her first, her last, o...</td>\n      <td>\\n    Bob Marley\\n</td>\n      <td>love</td>\n      <td>Bob Marley</td>\n    </tr>\n    <tr>\n      <th>88</th>\n      <td>\\n      “Never trust anyone who has not brough...</td>\n      <td>\\n    Lemony Snicket,\\n</td>\n      <td>books,reading</td>\n      <td>Lemony Snicket,</td>\n    </tr>\n    <tr>\n      <th>89</th>\n      <td>\\n      “You love me. Real or not real?\"</td>\n      <td>\\n    Suzanne Collins,\\n</td>\n      <td>katniss,love,peeta,suzanne-collins,the-hunger-...</td>\n      <td>Suzanne Collins,</td>\n    </tr>\n  </tbody>\n</table>\n<p>90 rows × 4 columns</p>\n</div>"
     },
     "metadata": {},
     "execution_count": 52
    }
   ],
   "source": [
    "df"
   ]
  },
  {
   "cell_type": "code",
   "execution_count": 23,
   "metadata": {},
   "outputs": [
    {
     "output_type": "execute_result",
     "data": {
      "text/plain": [
       "                                                 text  \\\n",
       "0   \\n      “I'm selfish, impatient and a little i...   \n",
       "1   \\n      “Be yourself; everyone else is already...   \n",
       "2   \\n      “Two things are infinite: the universe...   \n",
       "3        \\n      “So many books, so little time.”\\n     \n",
       "4   \\n      “A room without books is like a body w...   \n",
       "..                                                ...   \n",
       "84  \\n      “Women and cats will do as they please...   \n",
       "85  \\n      “We don't see things as they are, we s...   \n",
       "87  \\n      “You may not be her first, her last, o...   \n",
       "88  \\n      “Never trust anyone who has not brough...   \n",
       "89           \\n      “You love me. Real or not real?\"   \n",
       "\n",
       "                             author  \\\n",
       "0          \\n    Marilyn Monroe\\n     \n",
       "1             \\n    Oscar Wilde\\n     \n",
       "2         \\n    Albert Einstein\\n     \n",
       "3             \\n    Frank Zappa\\n     \n",
       "4   \\n    Marcus Tullius Cicero\\n     \n",
       "..                              ...   \n",
       "84     \\n    Robert A. Heinlein\\n     \n",
       "85              \\n    Anaïs Nin\\n     \n",
       "87             \\n    Bob Marley\\n     \n",
       "88        \\n    Lemony Snicket,\\n     \n",
       "89       \\n    Suzanne Collins,\\n     \n",
       "\n",
       "                                                 tags  \n",
       "0   attributed-no-source,best,life,love,mistakes,o...  \n",
       "1   attributed-no-source,be-yourself,honesty,inspi...  \n",
       "2   attributed-no-source,human-nature,humor,infini...  \n",
       "3                                         books,humor  \n",
       "4              attributed-no-source,books,simile,soul  \n",
       "..                                                ...  \n",
       "84                                   cats,humor,women  \n",
       "85                                                NaN  \n",
       "87                                               love  \n",
       "88                                      books,reading  \n",
       "89  katniss,love,peeta,suzanne-collins,the-hunger-...  \n",
       "\n",
       "[79 rows x 3 columns]"
      ],
      "text/html": "<div>\n<style scoped>\n    .dataframe tbody tr th:only-of-type {\n        vertical-align: middle;\n    }\n\n    .dataframe tbody tr th {\n        vertical-align: top;\n    }\n\n    .dataframe thead th {\n        text-align: right;\n    }\n</style>\n<table border=\"1\" class=\"dataframe\">\n  <thead>\n    <tr style=\"text-align: right;\">\n      <th></th>\n      <th>text</th>\n      <th>author</th>\n      <th>tags</th>\n    </tr>\n  </thead>\n  <tbody>\n    <tr>\n      <th>0</th>\n      <td>\\n      “I'm selfish, impatient and a little i...</td>\n      <td>\\n    Marilyn Monroe\\n</td>\n      <td>attributed-no-source,best,life,love,mistakes,o...</td>\n    </tr>\n    <tr>\n      <th>1</th>\n      <td>\\n      “Be yourself; everyone else is already...</td>\n      <td>\\n    Oscar Wilde\\n</td>\n      <td>attributed-no-source,be-yourself,honesty,inspi...</td>\n    </tr>\n    <tr>\n      <th>2</th>\n      <td>\\n      “Two things are infinite: the universe...</td>\n      <td>\\n    Albert Einstein\\n</td>\n      <td>attributed-no-source,human-nature,humor,infini...</td>\n    </tr>\n    <tr>\n      <th>3</th>\n      <td>\\n      “So many books, so little time.”\\n</td>\n      <td>\\n    Frank Zappa\\n</td>\n      <td>books,humor</td>\n    </tr>\n    <tr>\n      <th>4</th>\n      <td>\\n      “A room without books is like a body w...</td>\n      <td>\\n    Marcus Tullius Cicero\\n</td>\n      <td>attributed-no-source,books,simile,soul</td>\n    </tr>\n    <tr>\n      <th>...</th>\n      <td>...</td>\n      <td>...</td>\n      <td>...</td>\n    </tr>\n    <tr>\n      <th>84</th>\n      <td>\\n      “Women and cats will do as they please...</td>\n      <td>\\n    Robert A. Heinlein\\n</td>\n      <td>cats,humor,women</td>\n    </tr>\n    <tr>\n      <th>85</th>\n      <td>\\n      “We don't see things as they are, we s...</td>\n      <td>\\n    Anaïs Nin\\n</td>\n      <td>NaN</td>\n    </tr>\n    <tr>\n      <th>87</th>\n      <td>\\n      “You may not be her first, her last, o...</td>\n      <td>\\n    Bob Marley\\n</td>\n      <td>love</td>\n    </tr>\n    <tr>\n      <th>88</th>\n      <td>\\n      “Never trust anyone who has not brough...</td>\n      <td>\\n    Lemony Snicket,\\n</td>\n      <td>books,reading</td>\n    </tr>\n    <tr>\n      <th>89</th>\n      <td>\\n      “You love me. Real or not real?\"</td>\n      <td>\\n    Suzanne Collins,\\n</td>\n      <td>katniss,love,peeta,suzanne-collins,the-hunger-...</td>\n    </tr>\n  </tbody>\n</table>\n<p>79 rows × 3 columns</p>\n</div>"
     },
     "metadata": {},
     "execution_count": 23
    }
   ],
   "source": [
    "df['author'].str.contains(r\"\\w\\s\\w\")"
   ]
  },
  {
   "cell_type": "code",
   "execution_count": 48,
   "metadata": {
    "tags": []
   },
   "outputs": [],
   "source": [
    "class Geturls():\n",
    "    def __init__():\n",
    "        pass\n",
    "\n",
    "    def __repr__():\n",
    "        "
   ]
  },
  {
   "cell_type": "code",
   "execution_count": null,
   "metadata": {},
   "outputs": [],
   "source": []
  }
 ]
}